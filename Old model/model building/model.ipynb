{
 "cells": [
  {
   "cell_type": "code",
   "execution_count": 69,
   "id": "a53d9afa",
   "metadata": {},
   "outputs": [],
   "source": [
    "import pandas as pd\n",
    "import numpy as np"
   ]
  },
  {
   "cell_type": "code",
   "execution_count": 70,
   "id": "642f01ed",
   "metadata": {},
   "outputs": [],
   "source": [
    "from sklearn.preprocessing import PolynomialFeatures, StandardScaler\n",
    "from sklearn.preprocessing import OneHotEncoder\n",
    "from sklearn.base import BaseEstimator, TransformerMixin\n",
    "from sklearn.pipeline import FeatureUnion\n",
    "from sklearn.pipeline import Pipeline\n",
    "from sklearn.model_selection import train_test_split\n",
    "from sklearn.metrics import auc , recall_score, precision_score , accuracy_score ,f1_score\n",
    "from sklearn.metrics import ConfusionMatrixDisplay, confusion_matrix\n",
    "from sklearn.metrics import classification_report\n",
    "\n",
    "import seaborn as sns\n",
    "import matplotlib.pyplot as plt"
   ]
  },
  {
   "cell_type": "code",
   "execution_count": 71,
   "id": "58a6946b",
   "metadata": {},
   "outputs": [],
   "source": [
    "df_all = pd.read_csv('df_all.csv', index_col=0)"
   ]
  },
  {
   "cell_type": "code",
   "execution_count": 72,
   "id": "d15b7cf0",
   "metadata": {},
   "outputs": [
    {
     "data": {
      "text/html": [
       "<div>\n",
       "<style scoped>\n",
       "    .dataframe tbody tr th:only-of-type {\n",
       "        vertical-align: middle;\n",
       "    }\n",
       "\n",
       "    .dataframe tbody tr th {\n",
       "        vertical-align: top;\n",
       "    }\n",
       "\n",
       "    .dataframe thead th {\n",
       "        text-align: right;\n",
       "    }\n",
       "</style>\n",
       "<table border=\"1\" class=\"dataframe\">\n",
       "  <thead>\n",
       "    <tr style=\"text-align: right;\">\n",
       "      <th></th>\n",
       "      <th>Unnamed: 0</th>\n",
       "      <th>home_team.name</th>\n",
       "      <th>home_team_Shots on Goal</th>\n",
       "      <th>home_team_Shots off Goal</th>\n",
       "      <th>home_team_Total Shots</th>\n",
       "      <th>home_team_Blocked Shots</th>\n",
       "      <th>home_team_Shots insidebox</th>\n",
       "      <th>home_team_Shots outsidebox</th>\n",
       "      <th>home_team_Fouls</th>\n",
       "      <th>home_team_Corner Kicks</th>\n",
       "      <th>...</th>\n",
       "      <th>away_PK</th>\n",
       "      <th>away_PKatt</th>\n",
       "      <th>away_CrdY</th>\n",
       "      <th>away_CrdR</th>\n",
       "      <th>away_Gls.1</th>\n",
       "      <th>away_Ast.1</th>\n",
       "      <th>away_G+A</th>\n",
       "      <th>away_G-PK.1</th>\n",
       "      <th>away_G+A-PK</th>\n",
       "      <th>match_result</th>\n",
       "    </tr>\n",
       "  </thead>\n",
       "  <tbody>\n",
       "    <tr>\n",
       "      <th>0</th>\n",
       "      <td>0</td>\n",
       "      <td>France</td>\n",
       "      <td>4</td>\n",
       "      <td>4</td>\n",
       "      <td>9</td>\n",
       "      <td>1</td>\n",
       "      <td>6</td>\n",
       "      <td>3</td>\n",
       "      <td>21</td>\n",
       "      <td>0</td>\n",
       "      <td>...</td>\n",
       "      <td>0.0</td>\n",
       "      <td>0.333333</td>\n",
       "      <td>4.0</td>\n",
       "      <td>0.0</td>\n",
       "      <td>1.390</td>\n",
       "      <td>0.623333</td>\n",
       "      <td>2.016667</td>\n",
       "      <td>1.390</td>\n",
       "      <td>2.016667</td>\n",
       "      <td>1</td>\n",
       "    </tr>\n",
       "    <tr>\n",
       "      <th>1</th>\n",
       "      <td>1</td>\n",
       "      <td>Nigeria</td>\n",
       "      <td>3</td>\n",
       "      <td>5</td>\n",
       "      <td>9</td>\n",
       "      <td>1</td>\n",
       "      <td>4</td>\n",
       "      <td>5</td>\n",
       "      <td>20</td>\n",
       "      <td>3</td>\n",
       "      <td>...</td>\n",
       "      <td>0.0</td>\n",
       "      <td>0.333333</td>\n",
       "      <td>4.0</td>\n",
       "      <td>0.0</td>\n",
       "      <td>1.390</td>\n",
       "      <td>0.623333</td>\n",
       "      <td>2.016667</td>\n",
       "      <td>1.390</td>\n",
       "      <td>2.016667</td>\n",
       "      <td>2</td>\n",
       "    </tr>\n",
       "    <tr>\n",
       "      <th>2</th>\n",
       "      <td>2</td>\n",
       "      <td>France</td>\n",
       "      <td>5</td>\n",
       "      <td>8</td>\n",
       "      <td>19</td>\n",
       "      <td>6</td>\n",
       "      <td>12</td>\n",
       "      <td>7</td>\n",
       "      <td>6</td>\n",
       "      <td>4</td>\n",
       "      <td>...</td>\n",
       "      <td>0.5</td>\n",
       "      <td>0.500000</td>\n",
       "      <td>1.5</td>\n",
       "      <td>0.0</td>\n",
       "      <td>1.635</td>\n",
       "      <td>1.230000</td>\n",
       "      <td>2.865000</td>\n",
       "      <td>1.565</td>\n",
       "      <td>2.790000</td>\n",
       "      <td>1</td>\n",
       "    </tr>\n",
       "    <tr>\n",
       "      <th>3</th>\n",
       "      <td>3</td>\n",
       "      <td>Brazil</td>\n",
       "      <td>9</td>\n",
       "      <td>7</td>\n",
       "      <td>27</td>\n",
       "      <td>11</td>\n",
       "      <td>16</td>\n",
       "      <td>11</td>\n",
       "      <td>14</td>\n",
       "      <td>8</td>\n",
       "      <td>...</td>\n",
       "      <td>0.5</td>\n",
       "      <td>0.500000</td>\n",
       "      <td>1.5</td>\n",
       "      <td>0.0</td>\n",
       "      <td>1.635</td>\n",
       "      <td>1.230000</td>\n",
       "      <td>2.865000</td>\n",
       "      <td>1.565</td>\n",
       "      <td>2.790000</td>\n",
       "      <td>2</td>\n",
       "    </tr>\n",
       "    <tr>\n",
       "      <th>4</th>\n",
       "      <td>4</td>\n",
       "      <td>England</td>\n",
       "      <td>2</td>\n",
       "      <td>6</td>\n",
       "      <td>11</td>\n",
       "      <td>3</td>\n",
       "      <td>6</td>\n",
       "      <td>5</td>\n",
       "      <td>11</td>\n",
       "      <td>7</td>\n",
       "      <td>...</td>\n",
       "      <td>0.5</td>\n",
       "      <td>0.500000</td>\n",
       "      <td>1.5</td>\n",
       "      <td>0.0</td>\n",
       "      <td>1.635</td>\n",
       "      <td>1.230000</td>\n",
       "      <td>2.865000</td>\n",
       "      <td>1.565</td>\n",
       "      <td>2.790000</td>\n",
       "      <td>2</td>\n",
       "    </tr>\n",
       "  </tbody>\n",
       "</table>\n",
       "<p>5 rows × 82 columns</p>\n",
       "</div>"
      ],
      "text/plain": [
       "   Unnamed: 0 home_team.name  home_team_Shots on Goal  \\\n",
       "0           0         France                        4   \n",
       "1           1        Nigeria                        3   \n",
       "2           2         France                        5   \n",
       "3           3         Brazil                        9   \n",
       "4           4        England                        2   \n",
       "\n",
       "   home_team_Shots off Goal  home_team_Total Shots  home_team_Blocked Shots  \\\n",
       "0                         4                      9                        1   \n",
       "1                         5                      9                        1   \n",
       "2                         8                     19                        6   \n",
       "3                         7                     27                       11   \n",
       "4                         6                     11                        3   \n",
       "\n",
       "   home_team_Shots insidebox  home_team_Shots outsidebox  home_team_Fouls  \\\n",
       "0                          6                           3               21   \n",
       "1                          4                           5               20   \n",
       "2                         12                           7                6   \n",
       "3                         16                          11               14   \n",
       "4                          6                           5               11   \n",
       "\n",
       "   home_team_Corner Kicks  ...  away_PK  away_PKatt  away_CrdY  away_CrdR  \\\n",
       "0                       0  ...      0.0    0.333333        4.0        0.0   \n",
       "1                       3  ...      0.0    0.333333        4.0        0.0   \n",
       "2                       4  ...      0.5    0.500000        1.5        0.0   \n",
       "3                       8  ...      0.5    0.500000        1.5        0.0   \n",
       "4                       7  ...      0.5    0.500000        1.5        0.0   \n",
       "\n",
       "   away_Gls.1  away_Ast.1  away_G+A  away_G-PK.1  away_G+A-PK  match_result  \n",
       "0       1.390    0.623333  2.016667        1.390     2.016667             1  \n",
       "1       1.390    0.623333  2.016667        1.390     2.016667             2  \n",
       "2       1.635    1.230000  2.865000        1.565     2.790000             1  \n",
       "3       1.635    1.230000  2.865000        1.565     2.790000             2  \n",
       "4       1.635    1.230000  2.865000        1.565     2.790000             2  \n",
       "\n",
       "[5 rows x 82 columns]"
      ]
     },
     "execution_count": 72,
     "metadata": {},
     "output_type": "execute_result"
    }
   ],
   "source": [
    "df_all.head()"
   ]
  },
  {
   "cell_type": "code",
   "execution_count": 73,
   "id": "a5439336",
   "metadata": {},
   "outputs": [
    {
     "data": {
      "text/html": [
       "<div>\n",
       "<style scoped>\n",
       "    .dataframe tbody tr th:only-of-type {\n",
       "        vertical-align: middle;\n",
       "    }\n",
       "\n",
       "    .dataframe tbody tr th {\n",
       "        vertical-align: top;\n",
       "    }\n",
       "\n",
       "    .dataframe thead th {\n",
       "        text-align: right;\n",
       "    }\n",
       "</style>\n",
       "<table border=\"1\" class=\"dataframe\">\n",
       "  <thead>\n",
       "    <tr style=\"text-align: right;\">\n",
       "      <th></th>\n",
       "      <th>Unnamed: 0</th>\n",
       "      <th>home_team_Shots on Goal</th>\n",
       "      <th>home_team_Shots off Goal</th>\n",
       "      <th>home_team_Total Shots</th>\n",
       "      <th>home_team_Blocked Shots</th>\n",
       "      <th>home_team_Shots insidebox</th>\n",
       "      <th>home_team_Shots outsidebox</th>\n",
       "      <th>home_team_Fouls</th>\n",
       "      <th>home_team_Corner Kicks</th>\n",
       "      <th>home_team_Offsides</th>\n",
       "      <th>...</th>\n",
       "      <th>away_PK</th>\n",
       "      <th>away_PKatt</th>\n",
       "      <th>away_CrdY</th>\n",
       "      <th>away_CrdR</th>\n",
       "      <th>away_Gls.1</th>\n",
       "      <th>away_Ast.1</th>\n",
       "      <th>away_G+A</th>\n",
       "      <th>away_G-PK.1</th>\n",
       "      <th>away_G+A-PK</th>\n",
       "      <th>match_result</th>\n",
       "    </tr>\n",
       "  </thead>\n",
       "  <tbody>\n",
       "    <tr>\n",
       "      <th>count</th>\n",
       "      <td>61.000000</td>\n",
       "      <td>61.000000</td>\n",
       "      <td>61.000000</td>\n",
       "      <td>61.000000</td>\n",
       "      <td>61.000000</td>\n",
       "      <td>61.000000</td>\n",
       "      <td>61.000000</td>\n",
       "      <td>61.000000</td>\n",
       "      <td>61.000000</td>\n",
       "      <td>61.000000</td>\n",
       "      <td>...</td>\n",
       "      <td>61.000000</td>\n",
       "      <td>61.000000</td>\n",
       "      <td>61.000000</td>\n",
       "      <td>61.000000</td>\n",
       "      <td>61.000000</td>\n",
       "      <td>61.000000</td>\n",
       "      <td>61.000000</td>\n",
       "      <td>61.000000</td>\n",
       "      <td>61.000000</td>\n",
       "      <td>61.000000</td>\n",
       "    </tr>\n",
       "    <tr>\n",
       "      <th>mean</th>\n",
       "      <td>30.000000</td>\n",
       "      <td>4.557377</td>\n",
       "      <td>5.672131</td>\n",
       "      <td>13.639344</td>\n",
       "      <td>3.409836</td>\n",
       "      <td>8.049180</td>\n",
       "      <td>5.672131</td>\n",
       "      <td>13.245902</td>\n",
       "      <td>4.868852</td>\n",
       "      <td>1.426230</td>\n",
       "      <td>...</td>\n",
       "      <td>0.560109</td>\n",
       "      <td>0.740437</td>\n",
       "      <td>4.382514</td>\n",
       "      <td>0.155738</td>\n",
       "      <td>1.071230</td>\n",
       "      <td>0.609372</td>\n",
       "      <td>1.680929</td>\n",
       "      <td>0.941721</td>\n",
       "      <td>1.551995</td>\n",
       "      <td>1.278689</td>\n",
       "    </tr>\n",
       "    <tr>\n",
       "      <th>std</th>\n",
       "      <td>17.752934</td>\n",
       "      <td>2.480085</td>\n",
       "      <td>2.669090</td>\n",
       "      <td>5.893592</td>\n",
       "      <td>2.525715</td>\n",
       "      <td>3.621354</td>\n",
       "      <td>3.144950</td>\n",
       "      <td>4.832721</td>\n",
       "      <td>2.623455</td>\n",
       "      <td>1.203592</td>\n",
       "      <td>...</td>\n",
       "      <td>0.503720</td>\n",
       "      <td>0.595916</td>\n",
       "      <td>2.148286</td>\n",
       "      <td>0.241271</td>\n",
       "      <td>0.398725</td>\n",
       "      <td>0.369493</td>\n",
       "      <td>0.737112</td>\n",
       "      <td>0.424881</td>\n",
       "      <td>0.756721</td>\n",
       "      <td>0.710191</td>\n",
       "    </tr>\n",
       "    <tr>\n",
       "      <th>min</th>\n",
       "      <td>0.000000</td>\n",
       "      <td>0.000000</td>\n",
       "      <td>0.000000</td>\n",
       "      <td>5.000000</td>\n",
       "      <td>0.000000</td>\n",
       "      <td>1.000000</td>\n",
       "      <td>2.000000</td>\n",
       "      <td>5.000000</td>\n",
       "      <td>0.000000</td>\n",
       "      <td>0.000000</td>\n",
       "      <td>...</td>\n",
       "      <td>0.000000</td>\n",
       "      <td>0.000000</td>\n",
       "      <td>1.000000</td>\n",
       "      <td>0.000000</td>\n",
       "      <td>0.330000</td>\n",
       "      <td>0.000000</td>\n",
       "      <td>0.330000</td>\n",
       "      <td>0.000000</td>\n",
       "      <td>0.000000</td>\n",
       "      <td>0.000000</td>\n",
       "    </tr>\n",
       "    <tr>\n",
       "      <th>25%</th>\n",
       "      <td>15.000000</td>\n",
       "      <td>3.000000</td>\n",
       "      <td>4.000000</td>\n",
       "      <td>9.000000</td>\n",
       "      <td>2.000000</td>\n",
       "      <td>5.000000</td>\n",
       "      <td>3.000000</td>\n",
       "      <td>10.000000</td>\n",
       "      <td>3.000000</td>\n",
       "      <td>1.000000</td>\n",
       "      <td>...</td>\n",
       "      <td>0.000000</td>\n",
       "      <td>0.333333</td>\n",
       "      <td>3.000000</td>\n",
       "      <td>0.000000</td>\n",
       "      <td>0.670000</td>\n",
       "      <td>0.330000</td>\n",
       "      <td>1.113333</td>\n",
       "      <td>0.670000</td>\n",
       "      <td>1.000000</td>\n",
       "      <td>1.000000</td>\n",
       "    </tr>\n",
       "    <tr>\n",
       "      <th>50%</th>\n",
       "      <td>30.000000</td>\n",
       "      <td>4.000000</td>\n",
       "      <td>6.000000</td>\n",
       "      <td>12.000000</td>\n",
       "      <td>3.000000</td>\n",
       "      <td>8.000000</td>\n",
       "      <td>5.000000</td>\n",
       "      <td>13.000000</td>\n",
       "      <td>5.000000</td>\n",
       "      <td>1.000000</td>\n",
       "      <td>...</td>\n",
       "      <td>0.500000</td>\n",
       "      <td>0.666667</td>\n",
       "      <td>4.000000</td>\n",
       "      <td>0.000000</td>\n",
       "      <td>1.000000</td>\n",
       "      <td>0.483333</td>\n",
       "      <td>1.476667</td>\n",
       "      <td>0.863333</td>\n",
       "      <td>1.346667</td>\n",
       "      <td>1.000000</td>\n",
       "    </tr>\n",
       "    <tr>\n",
       "      <th>75%</th>\n",
       "      <td>45.000000</td>\n",
       "      <td>6.000000</td>\n",
       "      <td>7.000000</td>\n",
       "      <td>18.000000</td>\n",
       "      <td>4.000000</td>\n",
       "      <td>11.000000</td>\n",
       "      <td>7.000000</td>\n",
       "      <td>16.000000</td>\n",
       "      <td>7.000000</td>\n",
       "      <td>2.000000</td>\n",
       "      <td>...</td>\n",
       "      <td>1.000000</td>\n",
       "      <td>1.000000</td>\n",
       "      <td>5.500000</td>\n",
       "      <td>0.333333</td>\n",
       "      <td>1.390000</td>\n",
       "      <td>0.793333</td>\n",
       "      <td>2.016667</td>\n",
       "      <td>1.330000</td>\n",
       "      <td>2.016667</td>\n",
       "      <td>2.000000</td>\n",
       "    </tr>\n",
       "    <tr>\n",
       "      <th>max</th>\n",
       "      <td>60.000000</td>\n",
       "      <td>12.000000</td>\n",
       "      <td>12.000000</td>\n",
       "      <td>27.000000</td>\n",
       "      <td>11.000000</td>\n",
       "      <td>16.000000</td>\n",
       "      <td>15.000000</td>\n",
       "      <td>25.000000</td>\n",
       "      <td>10.000000</td>\n",
       "      <td>5.000000</td>\n",
       "      <td>...</td>\n",
       "      <td>2.000000</td>\n",
       "      <td>2.000000</td>\n",
       "      <td>11.000000</td>\n",
       "      <td>0.666667</td>\n",
       "      <td>1.890000</td>\n",
       "      <td>1.575000</td>\n",
       "      <td>3.470000</td>\n",
       "      <td>1.690000</td>\n",
       "      <td>3.270000</td>\n",
       "      <td>2.000000</td>\n",
       "    </tr>\n",
       "  </tbody>\n",
       "</table>\n",
       "<p>8 rows × 80 columns</p>\n",
       "</div>"
      ],
      "text/plain": [
       "       Unnamed: 0  home_team_Shots on Goal  home_team_Shots off Goal  \\\n",
       "count   61.000000                61.000000                 61.000000   \n",
       "mean    30.000000                 4.557377                  5.672131   \n",
       "std     17.752934                 2.480085                  2.669090   \n",
       "min      0.000000                 0.000000                  0.000000   \n",
       "25%     15.000000                 3.000000                  4.000000   \n",
       "50%     30.000000                 4.000000                  6.000000   \n",
       "75%     45.000000                 6.000000                  7.000000   \n",
       "max     60.000000                12.000000                 12.000000   \n",
       "\n",
       "       home_team_Total Shots  home_team_Blocked Shots  \\\n",
       "count              61.000000                61.000000   \n",
       "mean               13.639344                 3.409836   \n",
       "std                 5.893592                 2.525715   \n",
       "min                 5.000000                 0.000000   \n",
       "25%                 9.000000                 2.000000   \n",
       "50%                12.000000                 3.000000   \n",
       "75%                18.000000                 4.000000   \n",
       "max                27.000000                11.000000   \n",
       "\n",
       "       home_team_Shots insidebox  home_team_Shots outsidebox  home_team_Fouls  \\\n",
       "count                  61.000000                   61.000000        61.000000   \n",
       "mean                    8.049180                    5.672131        13.245902   \n",
       "std                     3.621354                    3.144950         4.832721   \n",
       "min                     1.000000                    2.000000         5.000000   \n",
       "25%                     5.000000                    3.000000        10.000000   \n",
       "50%                     8.000000                    5.000000        13.000000   \n",
       "75%                    11.000000                    7.000000        16.000000   \n",
       "max                    16.000000                   15.000000        25.000000   \n",
       "\n",
       "       home_team_Corner Kicks  home_team_Offsides  ...    away_PK  away_PKatt  \\\n",
       "count               61.000000           61.000000  ...  61.000000   61.000000   \n",
       "mean                 4.868852            1.426230  ...   0.560109    0.740437   \n",
       "std                  2.623455            1.203592  ...   0.503720    0.595916   \n",
       "min                  0.000000            0.000000  ...   0.000000    0.000000   \n",
       "25%                  3.000000            1.000000  ...   0.000000    0.333333   \n",
       "50%                  5.000000            1.000000  ...   0.500000    0.666667   \n",
       "75%                  7.000000            2.000000  ...   1.000000    1.000000   \n",
       "max                 10.000000            5.000000  ...   2.000000    2.000000   \n",
       "\n",
       "       away_CrdY  away_CrdR  away_Gls.1  away_Ast.1   away_G+A  away_G-PK.1  \\\n",
       "count  61.000000  61.000000   61.000000   61.000000  61.000000    61.000000   \n",
       "mean    4.382514   0.155738    1.071230    0.609372   1.680929     0.941721   \n",
       "std     2.148286   0.241271    0.398725    0.369493   0.737112     0.424881   \n",
       "min     1.000000   0.000000    0.330000    0.000000   0.330000     0.000000   \n",
       "25%     3.000000   0.000000    0.670000    0.330000   1.113333     0.670000   \n",
       "50%     4.000000   0.000000    1.000000    0.483333   1.476667     0.863333   \n",
       "75%     5.500000   0.333333    1.390000    0.793333   2.016667     1.330000   \n",
       "max    11.000000   0.666667    1.890000    1.575000   3.470000     1.690000   \n",
       "\n",
       "       away_G+A-PK  match_result  \n",
       "count    61.000000     61.000000  \n",
       "mean      1.551995      1.278689  \n",
       "std       0.756721      0.710191  \n",
       "min       0.000000      0.000000  \n",
       "25%       1.000000      1.000000  \n",
       "50%       1.346667      1.000000  \n",
       "75%       2.016667      2.000000  \n",
       "max       3.270000      2.000000  \n",
       "\n",
       "[8 rows x 80 columns]"
      ]
     },
     "execution_count": 73,
     "metadata": {},
     "output_type": "execute_result"
    }
   ],
   "source": [
    "df_all.describe()"
   ]
  },
  {
   "cell_type": "code",
   "execution_count": null,
   "id": "6a68f56b",
   "metadata": {},
   "outputs": [],
   "source": []
  },
  {
   "cell_type": "code",
   "execution_count": 74,
   "id": "b8e2504a",
   "metadata": {},
   "outputs": [],
   "source": [
    "X = df_all.drop('match_result',axis=1)\n",
    "y = df_all['match_result']"
   ]
  },
  {
   "cell_type": "code",
   "execution_count": 75,
   "id": "853dd56a",
   "metadata": {},
   "outputs": [],
   "source": [
    "#building the pipeline\n",
    "categorical_cols = [col for col in X.columns if (X[col].dtype == 'object') ]\n",
    "#categorical_cols  = ['Sponsor/Outfitter: i.e. boot']\n",
    "numerical_cols = [col for col in X.columns if (X[col].dtype != 'object') ]\n",
    "\n",
    "\n",
    "class DataFrameSelector(BaseEstimator,TransformerMixin):\n",
    "    def __init__(self,attribute_names):\n",
    "        self.attribute_names = attribute_names\n",
    "    def fit(self,X,y=None):\n",
    "        return self\n",
    "    def transform(self,X):\n",
    "        return X[self.attribute_names]\n",
    "    \n",
    "\n",
    "#Use one hot encoder for categorical variables\n",
    "cat_pipeline = Pipeline([\n",
    "    ('select_cat', DataFrameSelector(categorical_cols)),\n",
    "    ('cat_encoder', OneHotEncoder(sparse=False))\n",
    "])\n",
    "\n",
    "num_pipeline = Pipeline([\n",
    "    ('select_numeric', DataFrameSelector(numerical_cols))\n",
    "#    ('scaler', StandardScaler())\n",
    "])\n",
    "\n",
    "#add the numerical and categorical variables together\n",
    "preprocess_pipeline = FeatureUnion(transformer_list=[\n",
    "    ('numeric_pipeline',num_pipeline),\n",
    "    ('cat_pipeline' , cat_pipeline)\n",
    "])"
   ]
  },
  {
   "cell_type": "code",
   "execution_count": 76,
   "id": "84909011",
   "metadata": {},
   "outputs": [
    {
     "data": {
      "text/plain": [
       "['home_team.name', 'away_team.name']"
      ]
     },
     "execution_count": 76,
     "metadata": {},
     "output_type": "execute_result"
    }
   ],
   "source": [
    "[col for col in X.columns if (X[col].dtype == 'object') ]"
   ]
  },
  {
   "cell_type": "code",
   "execution_count": 77,
   "id": "94ebebc5",
   "metadata": {},
   "outputs": [],
   "source": [
    "X = preprocess_pipeline.fit_transform(X)"
   ]
  },
  {
   "cell_type": "code",
   "execution_count": 78,
   "id": "0d676ba3",
   "metadata": {},
   "outputs": [
    {
     "data": {
      "text/plain": [
       "array([[ 0.,  4.,  4., ...,  0.,  0.,  0.],\n",
       "       [ 1.,  3.,  5., ...,  0.,  0.,  0.],\n",
       "       [ 2.,  5.,  8., ...,  0.,  0.,  0.],\n",
       "       ...,\n",
       "       [58.,  2.,  2., ...,  0.,  0.,  0.],\n",
       "       [59.,  3.,  4., ...,  0.,  0.,  0.],\n",
       "       [60.,  3.,  4., ...,  0.,  0.,  0.]])"
      ]
     },
     "execution_count": 78,
     "metadata": {},
     "output_type": "execute_result"
    }
   ],
   "source": [
    "X"
   ]
  },
  {
   "cell_type": "code",
   "execution_count": 79,
   "id": "598006f2",
   "metadata": {},
   "outputs": [
    {
     "data": {
      "text/plain": [
       "LogisticRegression()"
      ]
     },
     "execution_count": 79,
     "metadata": {},
     "output_type": "execute_result"
    }
   ],
   "source": [
    "from sklearn.linear_model import LogisticRegression\n",
    "\n",
    "X_train_val, X_test, y_train_val, y_test = train_test_split(X, y, test_size=0.1,random_state=42)\n",
    "\n",
    "model = LogisticRegression()\n",
    "model.fit(X_train_val , y_train_val)"
   ]
  },
  {
   "cell_type": "code",
   "execution_count": 80,
   "id": "d9d51e24",
   "metadata": {},
   "outputs": [],
   "source": [
    "predictions =model.predict_proba(X_test)"
   ]
  },
  {
   "cell_type": "code",
   "execution_count": 81,
   "id": "2f374dbf",
   "metadata": {},
   "outputs": [],
   "source": [
    "preds = model.predict(X_test)"
   ]
  },
  {
   "cell_type": "code",
   "execution_count": 82,
   "id": "f679555a",
   "metadata": {},
   "outputs": [
    {
     "data": {
      "text/plain": [
       "array([[0.11, 0.55, 0.34],\n",
       "       [0.14, 0.61, 0.25],\n",
       "       [0.26, 0.45, 0.29],\n",
       "       [0.14, 0.21, 0.66],\n",
       "       [0.29, 0.42, 0.29],\n",
       "       [0.24, 0.28, 0.47],\n",
       "       [0.13, 0.2 , 0.66]])"
      ]
     },
     "execution_count": 82,
     "metadata": {},
     "output_type": "execute_result"
    }
   ],
   "source": [
    "np.round(predictions,2)"
   ]
  },
  {
   "cell_type": "code",
   "execution_count": 83,
   "id": "82360a04",
   "metadata": {},
   "outputs": [
    {
     "data": {
      "text/plain": [
       "array([0, 1, 2])"
      ]
     },
     "execution_count": 83,
     "metadata": {},
     "output_type": "execute_result"
    }
   ],
   "source": [
    "model.classes_"
   ]
  },
  {
   "cell_type": "code",
   "execution_count": 84,
   "id": "6b7eb604",
   "metadata": {},
   "outputs": [
    {
     "data": {
      "text/html": [
       "<div>\n",
       "<style scoped>\n",
       "    .dataframe tbody tr th:only-of-type {\n",
       "        vertical-align: middle;\n",
       "    }\n",
       "\n",
       "    .dataframe tbody tr th {\n",
       "        vertical-align: top;\n",
       "    }\n",
       "\n",
       "    .dataframe thead th {\n",
       "        text-align: right;\n",
       "    }\n",
       "</style>\n",
       "<table border=\"1\" class=\"dataframe\">\n",
       "  <thead>\n",
       "    <tr style=\"text-align: right;\">\n",
       "      <th></th>\n",
       "      <th>Draw Probability</th>\n",
       "      <th>Home team wins Probability</th>\n",
       "      <th>Home team Loses Probability</th>\n",
       "    </tr>\n",
       "  </thead>\n",
       "  <tbody>\n",
       "    <tr>\n",
       "      <th>0</th>\n",
       "      <td>0.11</td>\n",
       "      <td>0.55</td>\n",
       "      <td>0.34</td>\n",
       "    </tr>\n",
       "    <tr>\n",
       "      <th>1</th>\n",
       "      <td>0.14</td>\n",
       "      <td>0.61</td>\n",
       "      <td>0.25</td>\n",
       "    </tr>\n",
       "    <tr>\n",
       "      <th>2</th>\n",
       "      <td>0.26</td>\n",
       "      <td>0.45</td>\n",
       "      <td>0.29</td>\n",
       "    </tr>\n",
       "    <tr>\n",
       "      <th>3</th>\n",
       "      <td>0.14</td>\n",
       "      <td>0.21</td>\n",
       "      <td>0.66</td>\n",
       "    </tr>\n",
       "    <tr>\n",
       "      <th>4</th>\n",
       "      <td>0.29</td>\n",
       "      <td>0.42</td>\n",
       "      <td>0.29</td>\n",
       "    </tr>\n",
       "    <tr>\n",
       "      <th>5</th>\n",
       "      <td>0.24</td>\n",
       "      <td>0.28</td>\n",
       "      <td>0.47</td>\n",
       "    </tr>\n",
       "    <tr>\n",
       "      <th>6</th>\n",
       "      <td>0.13</td>\n",
       "      <td>0.20</td>\n",
       "      <td>0.66</td>\n",
       "    </tr>\n",
       "  </tbody>\n",
       "</table>\n",
       "</div>"
      ],
      "text/plain": [
       "   Draw Probability  Home team wins Probability  Home team Loses Probability\n",
       "0              0.11                        0.55                         0.34\n",
       "1              0.14                        0.61                         0.25\n",
       "2              0.26                        0.45                         0.29\n",
       "3              0.14                        0.21                         0.66\n",
       "4              0.29                        0.42                         0.29\n",
       "5              0.24                        0.28                         0.47\n",
       "6              0.13                        0.20                         0.66"
      ]
     },
     "execution_count": 84,
     "metadata": {},
     "output_type": "execute_result"
    }
   ],
   "source": [
    "results_df = pd.DataFrame(columns=model.classes_,data=np.round(predictions,2))\n",
    "results_df.rename(columns={0:'Draw Probability',1:'Home team wins Probability',2:'Home team Loses Probability'},inplace=True)\n",
    "results_df"
   ]
  },
  {
   "cell_type": "code",
   "execution_count": 85,
   "id": "b777611f",
   "metadata": {},
   "outputs": [
    {
     "ename": "NameError",
     "evalue": "name 'sklearn' is not defined",
     "output_type": "error",
     "traceback": [
      "\u001b[0;31m---------------------------------------------------------------------------\u001b[0m",
      "\u001b[0;31mNameError\u001b[0m                                 Traceback (most recent call last)",
      "\u001b[0;32m<ipython-input-85-2cca71f1bc4c>\u001b[0m in \u001b[0;36m<module>\u001b[0;34m\u001b[0m\n\u001b[1;32m      1\u001b[0m \u001b[0;32mfrom\u001b[0m \u001b[0msklearn\u001b[0m\u001b[0;34m.\u001b[0m\u001b[0mmetrics\u001b[0m \u001b[0;32mimport\u001b[0m \u001b[0maccuracy_score\u001b[0m\u001b[0;34m\u001b[0m\u001b[0;34m\u001b[0m\u001b[0m\n\u001b[0;32m----> 2\u001b[0;31m \u001b[0msklearn\u001b[0m\u001b[0;34m.\u001b[0m\u001b[0mmetrics\u001b[0m\u001b[0;34m.\u001b[0m\u001b[0maccuracy_score\u001b[0m\u001b[0;34m(\u001b[0m\u001b[0my_test\u001b[0m\u001b[0;34m,\u001b[0m\u001b[0mpreds\u001b[0m\u001b[0;34m)\u001b[0m\u001b[0;34m\u001b[0m\u001b[0;34m\u001b[0m\u001b[0m\n\u001b[0m",
      "\u001b[0;31mNameError\u001b[0m: name 'sklearn' is not defined"
     ]
    }
   ],
   "source": [
    "from sklearn.metrics import accuracy_score\n",
    "sklearn.metrics.accuracy_score(y_test,preds)"
   ]
  },
  {
   "cell_type": "code",
   "execution_count": null,
   "id": "4ca385cb",
   "metadata": {},
   "outputs": [],
   "source": []
  },
  {
   "cell_type": "code",
   "execution_count": null,
   "id": "ccc18173",
   "metadata": {},
   "outputs": [
    {
     "name": "stdout",
     "output_type": "stream",
     "text": [
      "              precision    recall  f1-score   support\n",
      "\n",
      "           0       0.00      0.00      0.00         1\n",
      "           1       1.00      1.00      1.00         4\n",
      "           2       0.67      1.00      0.80         2\n",
      "\n",
      "    accuracy                           0.86         7\n",
      "   macro avg       0.56      0.67      0.60         7\n",
      "weighted avg       0.76      0.86      0.80         7\n",
      "\n"
     ]
    },
    {
     "name": "stderr",
     "output_type": "stream",
     "text": [
      "/Users/zz/opt/anaconda3/lib/python3.8/site-packages/sklearn/metrics/_classification.py:1245: UndefinedMetricWarning: Precision and F-score are ill-defined and being set to 0.0 in labels with no predicted samples. Use `zero_division` parameter to control this behavior.\n",
      "  _warn_prf(average, modifier, msg_start, len(result))\n",
      "/Users/zz/opt/anaconda3/lib/python3.8/site-packages/sklearn/metrics/_classification.py:1245: UndefinedMetricWarning: Precision and F-score are ill-defined and being set to 0.0 in labels with no predicted samples. Use `zero_division` parameter to control this behavior.\n",
      "  _warn_prf(average, modifier, msg_start, len(result))\n",
      "/Users/zz/opt/anaconda3/lib/python3.8/site-packages/sklearn/metrics/_classification.py:1245: UndefinedMetricWarning: Precision and F-score are ill-defined and being set to 0.0 in labels with no predicted samples. Use `zero_division` parameter to control this behavior.\n",
      "  _warn_prf(average, modifier, msg_start, len(result))\n"
     ]
    }
   ],
   "source": [
    "print(classification_report(y_test, preds))"
   ]
  },
  {
   "cell_type": "code",
   "execution_count": null,
   "id": "3cf36ae0",
   "metadata": {},
   "outputs": [
    {
     "data": {
      "image/png": "[encoded data removed]",
      "text/plain": [
       "<Figure size 1008x720 with 2 Axes>"
      ]
     },
     "metadata": {
      "needs_background": "light"
     },
     "output_type": "display_data"
    }
   ],
   "source": [
    "# Plot the confusion matrix\n",
    "fig, ax = plt.subplots(figsize=(14, 10))\n",
    "# Create the matrix\n",
    "plt.rcParams.update({'font.size': 16})\n",
    "cm = confusion_matrix(y_test, preds)\n",
    "cmp = ConfusionMatrixDisplay(cm, display_labels=model.classes_)\n",
    "ax.set_title('Logistic regression matrix',fontsize=16)\n",
    "ax.set_xlabel('Predicted Label',fontsize=18)\n",
    "ax.set_ylabel('True Label',fontsize=18)\n",
    "#ax.tick_params(axis='both', which='major', labelsize=15) \n",
    "cmp.plot(ax=ax)\n",
    "\n",
    "plt.show();"
   ]
  },
  {
   "cell_type": "markdown",
   "id": "95d9ee4a",
   "metadata": {},
   "source": [
    "## Trying XGboost classifier"
   ]
  },
  {
   "cell_type": "code",
   "execution_count": null,
   "id": "8d5e40d9",
   "metadata": {},
   "outputs": [
    {
     "ename": "ModuleNotFoundError",
     "evalue": "No module named 'xgboost'",
     "output_type": "error",
     "traceback": [
      "\u001b[0;31m---------------------------------------------------------------------------\u001b[0m",
      "\u001b[0;31mModuleNotFoundError\u001b[0m                       Traceback (most recent call last)",
      "\u001b[0;32m<ipython-input-48-9e55cc19af1a>\u001b[0m in \u001b[0;36m<module>\u001b[0;34m\u001b[0m\n\u001b[0;32m----> 1\u001b[0;31m \u001b[0;32mimport\u001b[0m \u001b[0mxgboost\u001b[0m \u001b[0;32mas\u001b[0m \u001b[0mxgb\u001b[0m\u001b[0;34m\u001b[0m\u001b[0;34m\u001b[0m\u001b[0m\n\u001b[0m\u001b[1;32m      2\u001b[0m \u001b[0;34m\u001b[0m\u001b[0m\n\u001b[1;32m      3\u001b[0m \u001b[0mxgb_cl\u001b[0m \u001b[0;34m=\u001b[0m \u001b[0mxgb\u001b[0m\u001b[0;34m.\u001b[0m\u001b[0mXGBClassifier\u001b[0m\u001b[0;34m(\u001b[0m\u001b[0;34m)\u001b[0m\u001b[0;34m\u001b[0m\u001b[0;34m\u001b[0m\u001b[0m\n\u001b[1;32m      4\u001b[0m \u001b[0;34m\u001b[0m\u001b[0m\n\u001b[1;32m      5\u001b[0m \u001b[0mxgb_cl\u001b[0m\u001b[0;34m.\u001b[0m\u001b[0mfit\u001b[0m\u001b[0;34m(\u001b[0m\u001b[0mX_train_val\u001b[0m \u001b[0;34m,\u001b[0m \u001b[0my_train_val\u001b[0m\u001b[0;34m)\u001b[0m\u001b[0;34m\u001b[0m\u001b[0;34m\u001b[0m\u001b[0m\n",
      "\u001b[0;31mModuleNotFoundError\u001b[0m: No module named 'xgboost'"
     ]
    }
   ],
   "source": [
    "import xgboost as xgb\n",
    "\n",
    "xgb_cl = xgb.XGBClassifier()\n",
    "\n",
    "xgb_cl.fit(X_train_val , y_train_val)"
   ]
  },
  {
   "cell_type": "code",
   "execution_count": null,
   "id": "a3cecddf",
   "metadata": {},
   "outputs": [
    {
     "ename": "NameError",
     "evalue": "name 'xgb_cl' is not defined",
     "output_type": "error",
     "traceback": [
      "\u001b[0;31m---------------------------------------------------------------------------\u001b[0m",
      "\u001b[0;31mNameError\u001b[0m                                 Traceback (most recent call last)",
      "\u001b[0;32m<ipython-input-49-696e29fb273f>\u001b[0m in \u001b[0;36m<module>\u001b[0;34m\u001b[0m\n\u001b[0;32m----> 1\u001b[0;31m \u001b[0mpreds_a\u001b[0m \u001b[0;34m=\u001b[0m \u001b[0mxgb_cl\u001b[0m\u001b[0;34m.\u001b[0m\u001b[0mpredict_proba\u001b[0m\u001b[0;34m(\u001b[0m\u001b[0mX_test\u001b[0m\u001b[0;34m)\u001b[0m\u001b[0;34m\u001b[0m\u001b[0;34m\u001b[0m\u001b[0m\n\u001b[0m\u001b[1;32m      2\u001b[0m \u001b[0;34m\u001b[0m\u001b[0m\n\u001b[1;32m      3\u001b[0m \u001b[0mpreds_a\u001b[0m\u001b[0;34m\u001b[0m\u001b[0;34m\u001b[0m\u001b[0m\n",
      "\u001b[0;31mNameError\u001b[0m: name 'xgb_cl' is not defined"
     ]
    }
   ],
   "source": [
    "preds_a = xgb_cl.predict_proba(X_test)\n",
    "\n",
    "preds_a"
   ]
  },
  {
   "cell_type": "code",
   "execution_count": null,
   "id": "094f6c4c",
   "metadata": {},
   "outputs": [
    {
     "data": {
      "text/plain": [
       "0.8571428571428571"
      ]
     },
     "execution_count": 522,
     "metadata": {},
     "output_type": "execute_result"
    }
   ],
   "source": [
    "preds2 = xgb_cl.predict(X_test)\n",
    "metrics.accuracy_score(y_test,preds2)"
   ]
  },
  {
   "cell_type": "code",
   "execution_count": null,
   "id": "db5a75d5",
   "metadata": {},
   "outputs": [
    {
     "name": "stdout",
     "output_type": "stream",
     "text": [
      "              precision    recall  f1-score   support\n",
      "\n",
      "           0       0.00      0.00      0.00         1\n",
      "           1       1.00      1.00      1.00         4\n",
      "           2       0.67      1.00      0.80         2\n",
      "\n",
      "    accuracy                           0.86         7\n",
      "   macro avg       0.56      0.67      0.60         7\n",
      "weighted avg       0.76      0.86      0.80         7\n",
      "\n"
     ]
    },
    {
     "name": "stderr",
     "output_type": "stream",
     "text": [
      "/Library/Frameworks/Python.framework/Versions/3.8/lib/python3.8/site-packages/sklearn/metrics/_classification.py:1308: UndefinedMetricWarning: Precision and F-score are ill-defined and being set to 0.0 in labels with no predicted samples. Use `zero_division` parameter to control this behavior.\n",
      "  _warn_prf(average, modifier, msg_start, len(result))\n",
      "/Library/Frameworks/Python.framework/Versions/3.8/lib/python3.8/site-packages/sklearn/metrics/_classification.py:1308: UndefinedMetricWarning: Precision and F-score are ill-defined and being set to 0.0 in labels with no predicted samples. Use `zero_division` parameter to control this behavior.\n",
      "  _warn_prf(average, modifier, msg_start, len(result))\n",
      "/Library/Frameworks/Python.framework/Versions/3.8/lib/python3.8/site-packages/sklearn/metrics/_classification.py:1308: UndefinedMetricWarning: Precision and F-score are ill-defined and being set to 0.0 in labels with no predicted samples. Use `zero_division` parameter to control this behavior.\n",
      "  _warn_prf(average, modifier, msg_start, len(result))\n"
     ]
    }
   ],
   "source": [
    "print(classification_report(y_test, preds2))"
   ]
  },
  {
   "cell_type": "markdown",
   "id": "f1f318fa",
   "metadata": {},
   "source": [
    "## Mapping team names to values"
   ]
  },
  {
   "cell_type": "code",
   "execution_count": null,
   "id": "0123d7b0",
   "metadata": {
    "scrolled": false
   },
   "outputs": [],
   "source": [
    "\n",
    "def assign_values_to_team1(team):\n",
    "    \n",
    "    if team in df_2.index :\n",
    "        team1_data =  df_2.loc[team].reset_index()\n",
    "        team1_data = team1_data.groupby('index').mean().reset_index().rename(columns={'index':'home_team.name'}).iloc[0]\n",
    "        return team1_data\n",
    "\n",
    "#     else:\n",
    "#         return(pd.concat([pd.Series(data = [team], index=['home_team.name']),average_home]))\n",
    "    \n",
    "def assign_values_to_team2(team):\n",
    "    \n",
    "    if team in df_3.index :\n",
    "        team2_data =  df_3.loc[team].reset_index()\n",
    "        team2_data = team2_data.groupby('index').mean().reset_index().rename(columns={'index':'away_team.name'}).iloc[0]\n",
    "        return team2_data\n",
    "\n",
    "#     else:\n",
    "#         return(pd.concat([pd.Series(data = [team], index=['away_team.name']),average_away]))\n",
    "        \n",
    "    \n",
    "def map_inputs_to_data(team1,team2):\n",
    "    team_1 = assign_values_to_team1(team1)\n",
    "    team_2 = assign_values_to_team2(team2)\n",
    "\n",
    "    input_data = pd.concat([team_1,team_2])\n",
    "    return input_data"
   ]
  },
  {
   "cell_type": "code",
   "execution_count": 68,
   "id": "e2fe679c",
   "metadata": {},
   "outputs": [
    {
     "ename": "NameError",
     "evalue": "name 'df_team_away' is not defined",
     "output_type": "error",
     "traceback": [
      "\u001b[0;31m---------------------------------------------------------------------------\u001b[0m",
      "\u001b[0;31mNameError\u001b[0m                                 Traceback (most recent call last)",
      "\u001b[0;32m<ipython-input-68-396113812b3a>\u001b[0m in \u001b[0;36m<module>\u001b[0;34m\u001b[0m\n\u001b[0;32m----> 1\u001b[0;31m \u001b[0mlen\u001b[0m\u001b[0;34m(\u001b[0m\u001b[0mdf_team_away\u001b[0m\u001b[0;34m.\u001b[0m\u001b[0mreset_index\u001b[0m\u001b[0;34m(\u001b[0m\u001b[0;34m)\u001b[0m\u001b[0;34m.\u001b[0m\u001b[0mgroupby\u001b[0m\u001b[0;34m(\u001b[0m\u001b[0;34m'index'\u001b[0m\u001b[0;34m)\u001b[0m\u001b[0;34m.\u001b[0m\u001b[0mmean\u001b[0m\u001b[0;34m(\u001b[0m\u001b[0;34m)\u001b[0m\u001b[0;34m.\u001b[0m\u001b[0mindex\u001b[0m\u001b[0;34m)\u001b[0m\u001b[0;34m\u001b[0m\u001b[0;34m\u001b[0m\u001b[0m\n\u001b[0m",
      "\u001b[0;31mNameError\u001b[0m: name 'df_team_away' is not defined"
     ]
    }
   ],
   "source": [
    "len(df_team_away.reset_index().groupby('index').mean().index)"
   ]
  },
  {
   "cell_type": "markdown",
   "id": "ab28082d",
   "metadata": {},
   "source": [
    "## Try with different inputs\n",
    "\n",
    "### Teams played in world cup 2018"
   ]
  },
  {
   "cell_type": "code",
   "execution_count": 86,
   "id": "eb387a83",
   "metadata": {},
   "outputs": [
    {
     "ename": "NameError",
     "evalue": "name 'input_d' is not defined",
     "output_type": "error",
     "traceback": [
      "\u001b[0;31m---------------------------------------------------------------------------\u001b[0m",
      "\u001b[0;31mNameError\u001b[0m                                 Traceback (most recent call last)",
      "\u001b[0;32m<ipython-input-86-4bcce9f62242>\u001b[0m in \u001b[0;36m<module>\u001b[0;34m\u001b[0m\n\u001b[0;32m----> 1\u001b[0;31m \u001b[0mpd\u001b[0m\u001b[0;34m.\u001b[0m\u001b[0mDataFrame\u001b[0m\u001b[0;34m(\u001b[0m\u001b[0minput_d\u001b[0m\u001b[0;34m)\u001b[0m\u001b[0;34m.\u001b[0m\u001b[0mT\u001b[0m\u001b[0;34m\u001b[0m\u001b[0;34m\u001b[0m\u001b[0m\n\u001b[0m",
      "\u001b[0;31mNameError\u001b[0m: name 'input_d' is not defined"
     ]
    }
   ],
   "source": [
    "pd.DataFrame(input_d).T"
   ]
  },
  {
   "cell_type": "code",
   "execution_count": 87,
   "id": "de9cf8f6",
   "metadata": {
    "scrolled": false
   },
   "outputs": [
    {
     "ename": "NameError",
     "evalue": "name 'df_2' is not defined",
     "output_type": "error",
     "traceback": [
      "\u001b[0;31m---------------------------------------------------------------------------\u001b[0m",
      "\u001b[0;31mNameError\u001b[0m                                 Traceback (most recent call last)",
      "\u001b[0;32m<ipython-input-87-c56c75c482ba>\u001b[0m in \u001b[0;36m<module>\u001b[0;34m\u001b[0m\n\u001b[0;32m----> 1\u001b[0;31m \u001b[0minput_d\u001b[0m \u001b[0;34m=\u001b[0m \u001b[0mmap_inputs_to_data\u001b[0m\u001b[0;34m(\u001b[0m\u001b[0;34m'Egypt'\u001b[0m \u001b[0;34m,\u001b[0m \u001b[0;34m'England'\u001b[0m\u001b[0;34m)\u001b[0m\u001b[0;34m\u001b[0m\u001b[0;34m\u001b[0m\u001b[0m\n\u001b[0m\u001b[1;32m      2\u001b[0m \u001b[0minput_processed\u001b[0m \u001b[0;34m=\u001b[0m \u001b[0mpreprocess_pipeline\u001b[0m\u001b[0;34m.\u001b[0m\u001b[0mtransform\u001b[0m\u001b[0;34m(\u001b[0m\u001b[0mpd\u001b[0m\u001b[0;34m.\u001b[0m\u001b[0mDataFrame\u001b[0m\u001b[0;34m(\u001b[0m\u001b[0minput_d\u001b[0m\u001b[0;34m)\u001b[0m\u001b[0;34m.\u001b[0m\u001b[0mT\u001b[0m\u001b[0;34m)\u001b[0m\u001b[0;34m\u001b[0m\u001b[0;34m\u001b[0m\u001b[0m\n",
      "\u001b[0;32m<ipython-input-67-4580477ccc9a>\u001b[0m in \u001b[0;36mmap_inputs_to_data\u001b[0;34m(team1, team2)\u001b[0m\n\u001b[1;32m     21\u001b[0m \u001b[0;34m\u001b[0m\u001b[0m\n\u001b[1;32m     22\u001b[0m \u001b[0;32mdef\u001b[0m \u001b[0mmap_inputs_to_data\u001b[0m\u001b[0;34m(\u001b[0m\u001b[0mteam1\u001b[0m\u001b[0;34m,\u001b[0m\u001b[0mteam2\u001b[0m\u001b[0;34m)\u001b[0m\u001b[0;34m:\u001b[0m\u001b[0;34m\u001b[0m\u001b[0;34m\u001b[0m\u001b[0m\n\u001b[0;32m---> 23\u001b[0;31m     \u001b[0mteam_1\u001b[0m \u001b[0;34m=\u001b[0m \u001b[0massign_values_to_team1\u001b[0m\u001b[0;34m(\u001b[0m\u001b[0mteam1\u001b[0m\u001b[0;34m)\u001b[0m\u001b[0;34m\u001b[0m\u001b[0;34m\u001b[0m\u001b[0m\n\u001b[0m\u001b[1;32m     24\u001b[0m     \u001b[0mteam_2\u001b[0m \u001b[0;34m=\u001b[0m \u001b[0massign_values_to_team2\u001b[0m\u001b[0;34m(\u001b[0m\u001b[0mteam2\u001b[0m\u001b[0;34m)\u001b[0m\u001b[0;34m\u001b[0m\u001b[0;34m\u001b[0m\u001b[0m\n\u001b[1;32m     25\u001b[0m \u001b[0;34m\u001b[0m\u001b[0m\n",
      "\u001b[0;32m<ipython-input-67-4580477ccc9a>\u001b[0m in \u001b[0;36massign_values_to_team1\u001b[0;34m(team)\u001b[0m\n\u001b[1;32m      1\u001b[0m \u001b[0;32mdef\u001b[0m \u001b[0massign_values_to_team1\u001b[0m\u001b[0;34m(\u001b[0m\u001b[0mteam\u001b[0m\u001b[0;34m)\u001b[0m\u001b[0;34m:\u001b[0m\u001b[0;34m\u001b[0m\u001b[0;34m\u001b[0m\u001b[0m\n\u001b[1;32m      2\u001b[0m \u001b[0;34m\u001b[0m\u001b[0m\n\u001b[0;32m----> 3\u001b[0;31m     \u001b[0;32mif\u001b[0m \u001b[0mteam\u001b[0m \u001b[0;32min\u001b[0m \u001b[0mdf_2\u001b[0m\u001b[0;34m.\u001b[0m\u001b[0mindex\u001b[0m \u001b[0;34m:\u001b[0m\u001b[0;34m\u001b[0m\u001b[0;34m\u001b[0m\u001b[0m\n\u001b[0m\u001b[1;32m      4\u001b[0m         \u001b[0mteam1_data\u001b[0m \u001b[0;34m=\u001b[0m  \u001b[0mdf_2\u001b[0m\u001b[0;34m.\u001b[0m\u001b[0mloc\u001b[0m\u001b[0;34m[\u001b[0m\u001b[0mteam\u001b[0m\u001b[0;34m]\u001b[0m\u001b[0;34m.\u001b[0m\u001b[0mreset_index\u001b[0m\u001b[0;34m(\u001b[0m\u001b[0;34m)\u001b[0m\u001b[0;34m\u001b[0m\u001b[0;34m\u001b[0m\u001b[0m\n\u001b[1;32m      5\u001b[0m         \u001b[0mteam1_data\u001b[0m \u001b[0;34m=\u001b[0m \u001b[0mteam1_data\u001b[0m\u001b[0;34m.\u001b[0m\u001b[0mgroupby\u001b[0m\u001b[0;34m(\u001b[0m\u001b[0;34m'index'\u001b[0m\u001b[0;34m)\u001b[0m\u001b[0;34m.\u001b[0m\u001b[0mmean\u001b[0m\u001b[0;34m(\u001b[0m\u001b[0;34m)\u001b[0m\u001b[0;34m.\u001b[0m\u001b[0mreset_index\u001b[0m\u001b[0;34m(\u001b[0m\u001b[0;34m)\u001b[0m\u001b[0;34m.\u001b[0m\u001b[0mrename\u001b[0m\u001b[0;34m(\u001b[0m\u001b[0mcolumns\u001b[0m\u001b[0;34m=\u001b[0m\u001b[0;34m{\u001b[0m\u001b[0;34m'index'\u001b[0m\u001b[0;34m:\u001b[0m\u001b[0;34m'home_team.name'\u001b[0m\u001b[0;34m}\u001b[0m\u001b[0;34m)\u001b[0m\u001b[0;34m.\u001b[0m\u001b[0miloc\u001b[0m\u001b[0;34m[\u001b[0m\u001b[0;36m0\u001b[0m\u001b[0;34m]\u001b[0m\u001b[0;34m\u001b[0m\u001b[0;34m\u001b[0m\u001b[0m\n",
      "\u001b[0;31mNameError\u001b[0m: name 'df_2' is not defined"
     ]
    }
   ],
   "source": [
    "input_d = map_inputs_to_data('Egypt' , 'England')\n",
    "input_processed = preprocess_pipeline.transform(pd.DataFrame(input_d).T)"
   ]
  },
  {
   "cell_type": "code",
   "execution_count": null,
   "id": "0234da1b",
   "metadata": {},
   "outputs": [],
   "source": [
    "preds_test = model.predict_proba(input_processed)"
   ]
  },
  {
   "cell_type": "code",
   "execution_count": 88,
   "id": "9cfe7dfb",
   "metadata": {},
   "outputs": [
    {
     "ename": "NameError",
     "evalue": "name 'preds_test' is not defined",
     "output_type": "error",
     "traceback": [
      "\u001b[0;31m---------------------------------------------------------------------------\u001b[0m",
      "\u001b[0;31mNameError\u001b[0m                                 Traceback (most recent call last)",
      "\u001b[0;32m<ipython-input-88-cb5701946ceb>\u001b[0m in \u001b[0;36m<module>\u001b[0;34m\u001b[0m\n\u001b[0;32m----> 1\u001b[0;31m \u001b[0mnp\u001b[0m\u001b[0;34m.\u001b[0m\u001b[0mround\u001b[0m\u001b[0;34m(\u001b[0m\u001b[0mpreds_test\u001b[0m\u001b[0;34m,\u001b[0m\u001b[0;36m2\u001b[0m\u001b[0;34m)\u001b[0m\u001b[0;34m\u001b[0m\u001b[0;34m\u001b[0m\u001b[0m\n\u001b[0m",
      "\u001b[0;31mNameError\u001b[0m: name 'preds_test' is not defined"
     ]
    }
   ],
   "source": [
    "np.round(preds_test,2)"
   ]
  },
  {
   "cell_type": "code",
   "execution_count": 89,
   "id": "28f35578",
   "metadata": {},
   "outputs": [],
   "source": [
    "classes = model.classes_"
   ]
  },
  {
   "cell_type": "code",
   "execution_count": 90,
   "id": "b97b1716",
   "metadata": {},
   "outputs": [
    {
     "data": {
      "text/plain": [
       "array([0, 1, 2])"
      ]
     },
     "execution_count": 90,
     "metadata": {},
     "output_type": "execute_result"
    }
   ],
   "source": [
    "classes"
   ]
  },
  {
   "cell_type": "code",
   "execution_count": 91,
   "id": "293f630a",
   "metadata": {},
   "outputs": [],
   "source": [
    "def predict_match_result(team1 ,team2):\n",
    "    \n",
    "    input_d = map_inputs_to_data(team1 , team2)\n",
    "    input_processed = preprocess_pipeline.transform(pd.DataFrame(input_d).T)\n",
    "    preds_test = model.predict_proba(input_processed)\n",
    "    \n",
    "    results_df = pd.DataFrame(columns=classes,data=np.round(preds_test,2))\n",
    "    results_df.rename(columns={0:'Draw Probability',1:'{} wins Probability'.format(team1),2:'{} wins Probability'.format(team2)},inplace=True)\n",
    "    return(results_df)\n",
    "    \n",
    "                     "
   ]
  },
  {
   "cell_type": "code",
   "execution_count": 92,
   "id": "8d753a56",
   "metadata": {},
   "outputs": [
    {
     "ename": "NameError",
     "evalue": "name 'df_3' is not defined",
     "output_type": "error",
     "traceback": [
      "\u001b[0;31m---------------------------------------------------------------------------\u001b[0m",
      "\u001b[0;31mNameError\u001b[0m                                 Traceback (most recent call last)",
      "\u001b[0;32m<ipython-input-92-6e9abc9867b5>\u001b[0m in \u001b[0;36m<module>\u001b[0;34m\u001b[0m\n\u001b[0;32m----> 1\u001b[0;31m \u001b[0mdf_3\u001b[0m\u001b[0;34m\u001b[0m\u001b[0;34m\u001b[0m\u001b[0m\n\u001b[0m",
      "\u001b[0;31mNameError\u001b[0m: name 'df_3' is not defined"
     ]
    }
   ],
   "source": [
    "df_3"
   ]
  },
  {
   "cell_type": "code",
   "execution_count": 94,
   "id": "8d7ba20c",
   "metadata": {},
   "outputs": [],
   "source": [
    "# pickling the model\n",
    "import pickle\n",
    "pickle_out = open(\"model.pkl\", \"wb\")\n",
    "pickle.dump(model, pickle_out)\n",
    "pickle_out.close()"
   ]
  },
  {
   "cell_type": "code",
   "execution_count": 95,
   "id": "3277fa03",
   "metadata": {},
   "outputs": [],
   "source": [
    "pickle_out2 = open(\"pipeline.pkl\", \"wb\")\n",
    "pickle.dump(preprocess_pipeline, pickle_out2)\n",
    "pickle_out2.close()"
   ]
  },
  {
   "cell_type": "markdown",
   "id": "525e3dc1",
   "metadata": {},
   "source": [
    "### New Teams"
   ]
  },
  {
   "cell_type": "code",
   "execution_count": null,
   "id": "bd0f9104",
   "metadata": {
    "scrolled": false
   },
   "outputs": [],
   "source": [
    "# def predict_new_team_match_result(team1 ,team2):\n",
    "    \n",
    "    \n",
    "    \n",
    "#     input_d = map_inputs_to_data(team1 , team2)\n",
    "#     df_temp = df_all.append(input_d, ignore_index=True)\n",
    "#     X = df_temp.drop('match_result',axis=1)\n",
    "#     y = df_temp['match_result']\n",
    "    \n",
    "#     X = preprocess_pipeline.fit_transform(X)\n",
    "#     preds_test =model.predict_proba(X[-1].reshape(1, -1))\n",
    "#     results_df = pd.DataFrame(columns=classes,data=np.round(preds_test,2))\n",
    "#     results_df.rename(columns={0:'Draw Probability',1:'{} wins Probability'.format(team1),2:'{} wins Probability'.format(team2)},inplace=True)\n",
    "#     display(results_df)\n",
    "\n",
    "# predict_new_team_match_result('Libya' , 'England')"
   ]
  },
  {
   "cell_type": "code",
   "execution_count": null,
   "id": "a85e164e",
   "metadata": {},
   "outputs": [],
   "source": []
  }
 ],
 "metadata": {
  "kernelspec": {
   "display_name": "Python 3",
   "language": "python",
   "name": "python3"
  },
  "language_info": {
   "codemirror_mode": {
    "name": "ipython",
    "version": 3
   },
   "file_extension": ".py",
   "mimetype": "text/x-python",
   "name": "python",
   "nbconvert_exporter": "python",
   "pygments_lexer": "ipython3",
   "version": "3.8.8"
  }
 },
 "nbformat": 4,
 "nbformat_minor": 5
}
