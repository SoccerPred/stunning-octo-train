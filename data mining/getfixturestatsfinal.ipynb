{
 "cells": [
  {
   "cell_type": "code",
   "execution_count": 1,
   "metadata": {},
   "outputs": [],
   "source": [
    "import pandas as pd\n",
    "import json\n",
    "from os import path"
   ]
  },
  {
   "cell_type": "code",
   "execution_count": 2,
   "metadata": {},
   "outputs": [],
   "source": [
    "df = pd.read_csv('fixtureid.csv', dtype = str)\n",
    "list = df['fixtures'].tolist()\n",
    "#print(list)\n",
    "\n",
    "# if path.isfile(df) is False:\n",
    "#   raise Exception(\"File not found\")"
   ]
  },
  {
   "cell_type": "code",
   "execution_count": 3,
   "metadata": {},
   "outputs": [],
   "source": [
    "class MyEncoder(json.JSONEncoder):\n",
    "    def default(self, obj):\n",
    "        if isinstance(obj, bytes):\n",
    "            return str(obj, encoding='utf-8');\n",
    "        return json.JSONEncoder.default(self, obj)"
   ]
  },
  {
   "cell_type": "code",
   "execution_count": 4,
   "metadata": {},
   "outputs": [],
   "source": [
    "import http.client\n",
    "conn = http.client.HTTPSConnection(\"api-football-v1.p.rapidapi.com\")\n",
    "\n",
    "headers = {\n",
    "    'x-rapidapi-host': \"api-football-v1.p.rapidapi.com\",\n",
    "    'x-rapidapi-key': \"31ff8b362cmsh2d33090e7a91522p13720ejsn27a95455c8a6\"\n",
    "    }\n",
    "\n",
    "tempdf = []\n",
    "for n in list:\n",
    "    end = \"/v3/fixtures/statistics?fixture=\" +n\n",
    "\n",
    "    conn.request(\"GET\",  end, headers=headers)\n",
    "\n",
    "    res = conn.getresponse()\n",
    "    data = res.read()\n",
    "    tempdf.append(data)\n",
    "\n"
   ]
  },
  {
   "cell_type": "code",
   "execution_count": 5,
   "metadata": {},
   "outputs": [],
   "source": [
    "# import pickle\n",
    "\n",
    "# with open('outfile.txt', 'wb') as fp:\n",
    "#     pickle.dump(tempdf, fp)"
   ]
  },
  {
   "cell_type": "code",
   "execution_count": 13,
   "metadata": {},
   "outputs": [],
   "source": [
    "with open('statsfile', 'w',encoding='utf-8') as json_file:\n",
    "    json.dump(tempdf, json_file, cls=MyEncoder,\n",
    "                        indent=4,  \n",
    "                        separators=(',',': '))"
   ]
  },
  {
   "cell_type": "code",
   "execution_count": 16,
   "metadata": {},
   "outputs": [],
   "source": [
    "df_file = pd.read_json (r'statsfile')\n",
    "df_file = df_file.rename(columns={0:'####'})\n",
    "df_file.to_csv (r'statsfile-2.csv', index = None)"
   ]
  },
  {
   "cell_type": "code",
   "execution_count": 17,
   "metadata": {},
   "outputs": [
    {
     "data": {
      "text/html": [
       "<div>\n",
       "<style scoped>\n",
       "    .dataframe tbody tr th:only-of-type {\n",
       "        vertical-align: middle;\n",
       "    }\n",
       "\n",
       "    .dataframe tbody tr th {\n",
       "        vertical-align: top;\n",
       "    }\n",
       "\n",
       "    .dataframe thead th {\n",
       "        text-align: right;\n",
       "    }\n",
       "</style>\n",
       "<table border=\"1\" class=\"dataframe\">\n",
       "  <thead>\n",
       "    <tr style=\"text-align: right;\">\n",
       "      <th></th>\n",
       "      <th>####</th>\n",
       "    </tr>\n",
       "  </thead>\n",
       "  <tbody>\n",
       "    <tr>\n",
       "      <th>0</th>\n",
       "      <td>{\"get\":\"fixtures\\/statistics\",\"parameters\":{\"f...</td>\n",
       "    </tr>\n",
       "    <tr>\n",
       "      <th>1</th>\n",
       "      <td>{\"get\":\"fixtures\\/statistics\",\"parameters\":{\"f...</td>\n",
       "    </tr>\n",
       "    <tr>\n",
       "      <th>2</th>\n",
       "      <td>{\"get\":\"fixtures\\/statistics\",\"parameters\":{\"f...</td>\n",
       "    </tr>\n",
       "    <tr>\n",
       "      <th>3</th>\n",
       "      <td>{\"get\":\"fixtures\\/statistics\",\"parameters\":{\"f...</td>\n",
       "    </tr>\n",
       "    <tr>\n",
       "      <th>4</th>\n",
       "      <td>{\"get\":\"fixtures\\/statistics\",\"parameters\":{\"f...</td>\n",
       "    </tr>\n",
       "    <tr>\n",
       "      <th>...</th>\n",
       "      <td>...</td>\n",
       "    </tr>\n",
       "    <tr>\n",
       "      <th>187</th>\n",
       "      <td>{\"get\":\"fixtures\\/statistics\",\"parameters\":{\"f...</td>\n",
       "    </tr>\n",
       "    <tr>\n",
       "      <th>188</th>\n",
       "      <td>{\"get\":\"fixtures\\/statistics\",\"parameters\":{\"f...</td>\n",
       "    </tr>\n",
       "    <tr>\n",
       "      <th>189</th>\n",
       "      <td>{\"get\":\"fixtures\\/statistics\",\"parameters\":{\"f...</td>\n",
       "    </tr>\n",
       "    <tr>\n",
       "      <th>190</th>\n",
       "      <td>{\"get\":\"fixtures\\/statistics\",\"parameters\":{\"f...</td>\n",
       "    </tr>\n",
       "    <tr>\n",
       "      <th>191</th>\n",
       "      <td>{\"get\":\"fixtures\\/statistics\",\"parameters\":{\"f...</td>\n",
       "    </tr>\n",
       "  </tbody>\n",
       "</table>\n",
       "<p>192 rows × 1 columns</p>\n",
       "</div>"
      ],
      "text/plain": [
       "                                                  ####\n",
       "0    {\"get\":\"fixtures\\/statistics\",\"parameters\":{\"f...\n",
       "1    {\"get\":\"fixtures\\/statistics\",\"parameters\":{\"f...\n",
       "2    {\"get\":\"fixtures\\/statistics\",\"parameters\":{\"f...\n",
       "3    {\"get\":\"fixtures\\/statistics\",\"parameters\":{\"f...\n",
       "4    {\"get\":\"fixtures\\/statistics\",\"parameters\":{\"f...\n",
       "..                                                 ...\n",
       "187  {\"get\":\"fixtures\\/statistics\",\"parameters\":{\"f...\n",
       "188  {\"get\":\"fixtures\\/statistics\",\"parameters\":{\"f...\n",
       "189  {\"get\":\"fixtures\\/statistics\",\"parameters\":{\"f...\n",
       "190  {\"get\":\"fixtures\\/statistics\",\"parameters\":{\"f...\n",
       "191  {\"get\":\"fixtures\\/statistics\",\"parameters\":{\"f...\n",
       "\n",
       "[192 rows x 1 columns]"
      ]
     },
     "execution_count": 17,
     "metadata": {},
     "output_type": "execute_result"
    }
   ],
   "source": [
    "pd.read_csv('statsfile-2.csv')"
   ]
  },
  {
   "cell_type": "code",
   "execution_count": null,
   "metadata": {},
   "outputs": [],
   "source": []
  }
 ],
 "metadata": {
  "interpreter": {
   "hash": "40d3a090f54c6569ab1632332b64b2c03c39dcf918b08424e98f38b5ae0af88f"
  },
  "kernelspec": {
   "display_name": "Python 3",
   "language": "python",
   "name": "python3"
  },
  "language_info": {
   "codemirror_mode": {
    "name": "ipython",
    "version": 3
   },
   "file_extension": ".py",
   "mimetype": "text/x-python",
   "name": "python",
   "nbconvert_exporter": "python",
   "pygments_lexer": "ipython3",
   "version": "3.8.5"
  }
 },
 "nbformat": 4,
 "nbformat_minor": 2
}
